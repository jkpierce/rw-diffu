{
 "cells": [
  {
   "cell_type": "code",
   "execution_count": 4,
   "metadata": {
    "collapsed": true
   },
   "outputs": [],
   "source": [
    "import numpy as np\n",
    "import matplotlib.pyplot as plt\n",
    "%matplotlib inline\n",
    "from scipy.special import gammainc as gamma\n",
    "from scipy.special import iv as I\n",
    "from scipy.special import factorial\n",
    "from scipy.signal import unit_impulse as delta\n",
    "from scipy.stats import ncx2\n",
    "marcumQ = ncx2.cdf\n",
    "e = np.exp(1)"
   ]
  },
  {
   "cell_type": "markdown",
   "metadata": {},
   "source": [
    "# calculate the pdf and look at what kappa does"
   ]
  },
  {
   "cell_type": "code",
   "execution_count": 1,
   "metadata": {
    "collapsed": true
   },
   "outputs": [],
   "source": [
    "kap = 0.01 # trapping\n",
    "k1 = 0.1 # rest\n",
    "k2 = 1.0 # motion\n",
    "v = 1.0\n",
    "    \n",
    "def p(x,t,kap=kap,k1=k1,k2=k2,v=v):\n",
    "    t = t.astype('float128')\n",
    "    x = x.astype('float64')\n",
    "    kp = k1+k2\n",
    "    tmxv = t-x/v\n",
    "    the = np.heaviside(tmxv,1)\n",
    "    tmxv[tmxv<=0]=0.0\n",
    "    a = e**(-(kap+k1)*tmxv-k2*x/v)\n",
    "    b = 1/v*np.sqrt(k1*k2*x/v/tmxv)*the*I(1,2*np.sqrt(k1*k2*x/v*tmxv))\n",
    "    c = k2/v*the*I(0,2*np.sqrt(k1*k2*x/v*tmxv))\n",
    "    d = kap*k2/v/(kap+k1)*the*e**(-k2*x/v)\n",
    "\n",
    "    def P1(x,y):\n",
    "        # this is the sum over incomplete gamma functions\n",
    "        n = 150 # number of terms to keep in Q\n",
    "        j = np.arange(n).reshape(-1,1).astype('float64')    \n",
    "        Q = x**j/factorial(j)*gamma(j+1,y)\n",
    "        return np.nansum(Q,0)\n",
    "    \n",
    "    def P1py(x,y):\n",
    "        # it can also be expressed as a marcum Q-function\n",
    "        # which is equivalent to a non-central chi-squared cdf\n",
    "        # this code block provides\n",
    "        # e^{-x}*\\sum_{n=0}^\\infty \\frac{x^n}{n!n!}\\gamma(n+1,y)\n",
    "        from scipy.stats import ncx2\n",
    "        Q = ncx2.cdf\n",
    "        return Q(y*2,df=2,nc=2*x,scale=(x[1]-x[0]))        \n",
    "    return a*(b+c)+d*e**(k1*k2*x/v/(kap+k1))*P1py( k1*k2*x/v/(kap+k1), (kap+k1)*tmxv)\n",
    "\n",
    "    "
   ]
  },
  {
   "cell_type": "code",
   "execution_count": 5,
   "metadata": {},
   "outputs": [
    {
     "ename": "NameError",
     "evalue": "name 'x' is not defined",
     "output_type": "error",
     "traceback": [
      "\u001b[0;31m---------------------------------------------------------------------------\u001b[0m",
      "\u001b[0;31mNameError\u001b[0m                                 Traceback (most recent call last)",
      "\u001b[0;32m<ipython-input-5-6f435ddfd1c2>\u001b[0m in \u001b[0;36m<module>\u001b[0;34m()\u001b[0m\n\u001b[1;32m      1\u001b[0m \u001b[0mt\u001b[0m \u001b[0;34m=\u001b[0m \u001b[0mnp\u001b[0m\u001b[0;34m.\u001b[0m\u001b[0marray\u001b[0m\u001b[0;34m(\u001b[0m\u001b[0;34m[\u001b[0m\u001b[0;36m25\u001b[0m\u001b[0;34m,\u001b[0m\u001b[0;36m75\u001b[0m\u001b[0;34m,\u001b[0m\u001b[0;36m125\u001b[0m\u001b[0;34m]\u001b[0m\u001b[0;34m)\u001b[0m\u001b[0;34m\u001b[0m\u001b[0;34m\u001b[0m\u001b[0m\n\u001b[0;32m----> 2\u001b[0;31m \u001b[0mdx\u001b[0m \u001b[0;34m=\u001b[0m \u001b[0mx\u001b[0m\u001b[0;34m[\u001b[0m\u001b[0;36m1\u001b[0m\u001b[0;34m]\u001b[0m\u001b[0;34m-\u001b[0m\u001b[0mx\u001b[0m\u001b[0;34m[\u001b[0m\u001b[0;36m0\u001b[0m\u001b[0;34m]\u001b[0m\u001b[0;34m\u001b[0m\u001b[0;34m\u001b[0m\u001b[0m\n\u001b[0m\u001b[1;32m      3\u001b[0m \u001b[0mk1\u001b[0m \u001b[0;34m=\u001b[0m \u001b[0;36m0.1\u001b[0m \u001b[0;31m# rest\u001b[0m\u001b[0;34m\u001b[0m\u001b[0;34m\u001b[0m\u001b[0m\n\u001b[1;32m      4\u001b[0m \u001b[0mk2\u001b[0m \u001b[0;34m=\u001b[0m \u001b[0;36m1.0\u001b[0m \u001b[0;31m# motion\u001b[0m\u001b[0;34m\u001b[0m\u001b[0;34m\u001b[0m\u001b[0m\n\u001b[1;32m      5\u001b[0m \u001b[0mv\u001b[0m \u001b[0;34m=\u001b[0m \u001b[0;36m2.0\u001b[0m\u001b[0;34m\u001b[0m\u001b[0;34m\u001b[0m\u001b[0m\n",
      "\u001b[0;31mNameError\u001b[0m: name 'x' is not defined"
     ]
    }
   ],
   "source": [
    "t = np.array([25,75,125])\n",
    "dx = x[1]-x[0]\n",
    "k1 = 0.1 # rest\n",
    "k2 = 1.0 # motion\n",
    "v = 2.0\n",
    "\n",
    "fig, (ax1, ax2) = plt.subplots(nrows=1,ncols=2, sharey=True, figsize=(7,3.5/1.6), dpi=600)\n",
    "\n",
    "kap = 0.0 \n",
    "for tt in t:\n",
    "    ax1.plot(x,p(x,tt,kap=kap,k1=k1,k2=k2,v=v),color='black',lw=2)\n",
    "ax1.set_xlim(0,40)\n",
    "ax1.set_ylim(0,0.15)\n",
    "ax1.set_xlabel(r'$x$',fontsize=12)\n",
    "ax1.set_ylabel(r'$p(x,t)$',fontsize=12)\n",
    "ax1.set_title(r'Lisle et al. (1998)',fontsize=12)\n",
    "\n",
    "kap = 0.01 # trapping\n",
    "for tt in t:\n",
    "    ax2.plot(x,p(x,tt,kap=kap,k1=k1,k2=k2,v=v),color='black',lw=2)\n",
    "ax2.set_xlim(0,40)\n",
    "ax2.set_ylim(0,0.15)\n",
    "ax2.set_xlabel(r'$x$',fontsize=12)\n",
    "ax2.set_title(r'Trapping model',fontsize=12)\n",
    "\n",
    "fig.savefig('../grl/figures/pdf-plot.png', bbox_inches='tight')"
   ]
  },
  {
   "cell_type": "markdown",
   "metadata": {
    "collapsed": true
   },
   "source": [
    "# calculate the mean"
   ]
  },
  {
   "cell_type": "code",
   "execution_count": 6,
   "metadata": {
    "collapsed": true
   },
   "outputs": [],
   "source": [
    "def mean(t,k1,k2,kap,v):\n",
    "    sinh=np.sinh\n",
    "    cosh=np.cosh\n",
    "    exp=np.exp\n",
    "    sqrt = np.sqrt\n",
    "\n",
    "    kp = k1+k2\n",
    "    a = (kap+kp)/2.0\n",
    "    b = sqrt(a**2-kap*k2)\n",
    "    print(b)\n",
    "    t = np.float128(t)\n",
    "    out = 1/b*exp(-a*t)*sinh(b*t)\n",
    "    out += (kap+k1)/(2*b)*(1/(b-a)*(exp((b-a)*t)-1)+1/(a+b)*(exp(-(a+b)*t)-1))\n",
    "    return v*out"
   ]
  },
  {
   "cell_type": "code",
   "execution_count": 20,
   "metadata": {
    "scrolled": true
   },
   "outputs": [
    {
     "name": "stdout",
     "output_type": "stream",
     "text": [
      "514.5291536929661\n"
     ]
    },
    {
     "name": "stderr",
     "output_type": "stream",
     "text": [
      "/home/kpierce/anaconda3/lib/python3.6/site-packages/ipykernel/__main__.py:12: RuntimeWarning: overflow encountered in sinh\n",
      "/home/kpierce/anaconda3/lib/python3.6/site-packages/ipykernel/__main__.py:12: RuntimeWarning: invalid value encountered in multiply\n"
     ]
    },
    {
     "data": {
      "text/plain": [
       "<matplotlib.legend.Legend at 0x7f01d9bcbf28>"
      ]
     },
     "execution_count": 20,
     "metadata": {},
     "output_type": "execute_result"
    },
    {
     "data": {
      "image/png": "[encoded data removed]",
      "text/plain": [
       "<Figure size 432x288 with 1 Axes>"
      ]
     },
     "metadata": {},
     "output_type": "display_data"
    }
   ],
   "source": [
    "t = np.geomspace(1e-5,1e3,50000)\n",
    "k1 = 30.0 # inverse rest time\n",
    "k2 = 1000.0 # inverse motion time\n",
    "kap = 1\n",
    "#k1 = k1*10\n",
    "#k2 = k2*10\n",
    "#kap = kap*10\n",
    "v=1\n",
    "plt.loglog(t,mean(t,k1,k2,kap,v))\n",
    "plt.axvline(1/k1,label=r'$1/k_1$',color='red')\n",
    "plt.axvline(1/k2,label=r'$1/k_2$',color='blue')\n",
    "plt.axvline(1/kap,label=r'$1/\\kappa$',color='green')\n",
    "plt.legend()"
   ]
  },
  {
   "cell_type": "markdown",
   "metadata": {
    "collapsed": true
   },
   "source": [
    "# calculate the mean and variance"
   ]
  },
  {
   "cell_type": "code",
   "execution_count": 281,
   "metadata": {
    "collapsed": true
   },
   "outputs": [],
   "source": [
    "t = np.geomspace(1e-3,1e6,50000)\n",
    "motion = 1.0\n",
    "rest = 1e2\n",
    "trap = 1e5\n",
    "k1 = 1/rest\n",
    "k2 = 1/motion\n",
    "kap = 1/trap\n",
    "v=0.5\n",
    "\n",
    "def cumulants(t,flag,k1,k2,kap,v):\n",
    "    \"\"\" this provides the expressions \"\"\"\n",
    "    kp = k1 + k2\n",
    "    exp=np.exp\n",
    "    sqrt = np.sqrt\n",
    "    a = (kap+kp)/2.0\n",
    "    b = sqrt(a**2-kap*k2)\n",
    "    A1 = v/(2*b)*(1+(kap+k1)/(b-a))\n",
    "    B1 = v/(2*b)*(-1+(kap+k1)/(a+b))\n",
    "    C1 = -v/(2*b)*(1/(b-a)+1/(a+b))*(kap+k1)\n",
    "    def A2(t):\n",
    "        out = b+(b-a)*(b*t-1)+2*(kap+k1)*(b*t-1)\n",
    "        out += (kap+k1)**2/(a-b)**2*(-a*b*t+a+b*(b*t-2))\n",
    "        return v**2/(2*b**3)*out\n",
    "    def B2(t):\n",
    "        out = b-(a+b)*(b*t+1)+2*(kap+k1)*(b*t+1)\n",
    "        out += -(kap+k1)**2/(a+b)**2*(b*t*(a+b)+a+2*b)\n",
    "        return v**2/(2*b**3)*out\n",
    "    C2 = v**2/(2*b**3)*(kap+k1)**2*((a+2*b)/(a+b)**2 + (-a+2*b)/(a-b)**2)\n",
    "    if flag==1: # compute the mean\n",
    "        return A1*exp((b-a)*t)+B1*exp(-(a+b)*t)+C1\n",
    "    elif flag==2: # compute the var\n",
    "        out = (A2(t)-2*A1*C1-A1**2*exp((b-a)*t))*exp((b-a)*t)\n",
    "        out += (B2(t)-2*B1*C1-B1**2*exp(-(a+b)*t))*exp(-(a+b)*t)\n",
    "        out += C2 - C1**2 - 2*A1*B1*exp(-2*a*t)\n",
    "        return out"
   ]
  },
  {
   "cell_type": "code",
   "execution_count": 282,
   "metadata": {},
   "outputs": [
    {
     "data": {
      "text/plain": [
       "Text(0.5, 1.0, 'mean')"
      ]
     },
     "execution_count": 282,
     "metadata": {},
     "output_type": "execute_result"
    },
    {
     "data": {
      "image/png": "[encoded data removed]",
      "text/plain": [
       "<Figure size 432x288 with 1 Axes>"
      ]
     },
     "metadata": {},
     "output_type": "display_data"
    }
   ],
   "source": [
    "\n",
    "plt.loglog(t,cumulants(t,1,k1,k2,kap,v),color='black')\n",
    "plt.axvline(1/k1,label=r'$1/k_1$',color='red')\n",
    "plt.axvline(1/k2,label=r'$1/k_2$',color='blue')\n",
    "plt.axvline(1/kap,label=r'$1/\\kappa$',color='green')\n",
    "plt.legend()\n",
    "plt.ylim(1e-3,1e3)\n",
    "plt.xlim(1e-2,1e7)\n",
    "plt.title('mean')"
   ]
  },
  {
   "cell_type": "code",
   "execution_count": 298,
   "metadata": {
    "scrolled": false
   },
   "outputs": [
    {
     "data": {
      "text/plain": [
       "(1e-07, 10000000.0)"
      ]
     },
     "execution_count": 298,
     "metadata": {},
     "output_type": "execute_result"
    },
    {
     "data": {
      "image/png": "[encoded data removed]",
      "text/plain": [
       "<Figure size 432x288 with 1 Axes>"
      ]
     },
     "metadata": {},
     "output_type": "display_data"
    }
   ],
   "source": [
    "kp = k1+k2\n",
    "a = (kap+kp)/2.0\n",
    "b = np.sqrt(a**2-kap*k2)\n",
    "plt.loglog(t,cumulants(t,2,k1,k2,kap,v),color='black')\n",
    "\n",
    "om = (kap+k1)/k1\n",
    "#plt.axvline(1/om,color='purple')\n",
    "plt.axvline(1/a,color='orange')\n",
    "plt.axvline(1/kap,color='green')\n",
    "#plt.axvline(1/kap+kp/k2,color='red')\n",
    "\n",
    "plt.axvline(k1*k2/kap)\n",
    "#plt.axvline(1/kp,color='red')\n",
    "plt.title('variance')\n",
    "plt.xlim(1e-2,1e8)\n",
    "plt.ylim(1e-7,1e7)"
   ]
  },
  {
   "cell_type": "markdown",
   "metadata": {
    "collapsed": true
   },
   "source": [
    "# make a plot of einstein/lisle/new"
   ]
  },
  {
   "cell_type": "code",
   "execution_count": 128,
   "metadata": {
    "collapsed": true
   },
   "outputs": [],
   "source": [
    "# code to plot individual trajecctories of einstein\n",
    "\n",
    "def einwalk(k1=2.0,k2=1.0,dt=1e-2,tmax=10):\n",
    "    X = []\n",
    "    T = []\n",
    "    t = 0.0\n",
    "    x = 0.0\n",
    "    tau = np.random.exponential(1/k1)\n",
    "    while t<tmax:\n",
    "        T.append(t)\n",
    "        t = t + dt\n",
    "        if t<tau:\n",
    "            X.append(x)\n",
    "        else:\n",
    "            tau += np.random.exponential(1/k1)\n",
    "            x = x + np.random.exponential(1/k2)\n",
    "            X.append(x)        \n",
    "    return T[:-1],X[:-1]"
   ]
  },
  {
   "cell_type": "code",
   "execution_count": 136,
   "metadata": {
    "collapsed": true
   },
   "outputs": [],
   "source": [
    "# code to plot lisle1998\n",
    "\n",
    "# first code up the lisle process from any initial conditions\n",
    "def walkit(k0=1.0,k1=1.0,v=1.0,tmax=10,theta0=0.5,theta1=0.5):\n",
    "    \"\"\"\n",
    "    k0 is the inverse mean resting time\n",
    "    k1 is the inverse mean moving time\n",
    "    v is the velocity\n",
    "    tmax is the maximum time to walk\n",
    "    theta0 is the probability of starting at rest\n",
    "    theta1 is the probability of starting in motion\n",
    "    \"\"\"\n",
    "    S = []\n",
    "    T = []\n",
    "    s = int(np.random.random() > theta0) # initial state\n",
    "    t = 0.0 # initial time\n",
    "    T.append(t)\n",
    "    S.append(s)\n",
    "    while t<tmax:\n",
    "        if s==0:\n",
    "            t = t + np.random.exponential(1/k0)\n",
    "            S.append(s)            \n",
    "            s = 1 \n",
    "            T.append(t)\n",
    "        elif s==1:\n",
    "            t = t + np.random.exponential(1/k1)\n",
    "            S.append(s)            \n",
    "            s = 0\n",
    "            T.append(t)\n",
    "    return np.array(T),np.array(S)\n",
    "\n",
    "def plotit(walk):\n",
    "    t,s = walk\n",
    "    widths = np.diff(t)\n",
    "    plt.bar(t[:-1],s[:-1]+1,width=widths,edgecolor='black',facecolor='purple',align='edge',zorder=-1)\n",
    "    \n",
    "def dispit(walk,ts,v=1.0):\n",
    "    t,xs = walk\n",
    "    i = np.searchsorted(t,ts,side='left')\n",
    "    xs = xs[i]\n",
    "    dt = ts[1]-ts[0]\n",
    "    xs = (xs*v*dt).cumsum()\n",
    "    return xs"
   ]
  },
  {
   "cell_type": "code",
   "execution_count": 205,
   "metadata": {
    "collapsed": true
   },
   "outputs": [],
   "source": [
    "# first code up the lisle process from any initial conditions\n",
    "def walkit2(kap,k0=1.0,k1=1.0,v=1.0,tmax=10,theta0=0.5,theta1=0.5):\n",
    "    \"\"\"\n",
    "    k0 is the inverse mean resting time\n",
    "    k1 is the inverse mean moving time\n",
    "    v is the velocity\n",
    "    tmax is the maximum time to walk\n",
    "    theta0 is the probability of starting at rest\n",
    "    theta1 is the probability of starting in motion\n",
    "    \"\"\"\n",
    "    S = []\n",
    "    T = []\n",
    "    s = int(np.random.random() > theta0) # initial state\n",
    "    t = 0.0 # initial time\n",
    "    T.append(t)\n",
    "    S.append(s)\n",
    "    while t<tmax:\n",
    "        if s==0:\n",
    "            dt =  np.random.exponential(1/k0)\n",
    "            t = t + dt\n",
    "            if np.exp(-kap*dt)<np.random.random():\n",
    "                S.append(s)\n",
    "                T.append(t)\n",
    "                s = -1\n",
    "                S.append(-1)\n",
    "                t= tmax\n",
    "                T.append(t)\n",
    "                S.append(-1)\n",
    "                break\n",
    "            else:\n",
    "                S.append(s)\n",
    "                s = 1 \n",
    "                T.append(t)\n",
    "        elif s==1:\n",
    "            t = t + np.random.exponential(1/k1)\n",
    "            S.append(s)            \n",
    "            s = 0\n",
    "            T.append(t)\n",
    "    return np.array(T),np.array(S)\n",
    "\n",
    "def plotit2(walk):\n",
    "    t,s = walk\n",
    "    widths = np.diff(t)\n",
    "    plt.bar(t[:-1],s[:-1]+1,width=widths,edgecolor='black',facecolor='purple',align='edge',zorder=-1)\n",
    "    \n",
    "def dispit2(walk,ts,v=1.0):\n",
    "    t,xs = walk\n",
    "    i = np.searchsorted(t,ts,side='left')\n",
    "    xs = xs[i]\n",
    "    xs[xs==-1]=0\n",
    "    dt = ts[1]-ts[0]\n",
    "    xs = (xs*v*dt).cumsum()\n",
    "    return xs"
   ]
  },
  {
   "cell_type": "code",
   "execution_count": 263,
   "metadata": {},
   "outputs": [
    {
     "name": "stderr",
     "output_type": "stream",
     "text": [
      "/home/kpierce/anaconda3/lib/python3.6/site-packages/ipykernel/__main__.py:63: UserWarning: Attempted to set non-positive bottom ylim on a log-scaled axis.\n",
      "Invalid limit will be ignored.\n",
      "/home/kpierce/anaconda3/lib/python3.6/site-packages/ipykernel/__main__.py:64: UserWarning: Attempted to set non-positive left xlim on a log-scaled axis.\n",
      "Invalid limit will be ignored.\n"
     ]
    },
    {
     "data": {
      "image/png": "[encoded data removed]",
      "text/plain": [
       "<Figure size 504x315 with 9 Axes>"
      ]
     },
     "metadata": {},
     "output_type": "display_data"
    }
   ],
   "source": [
    "# initialize the figure\n",
    "fig, axes = plt.subplots(nrows=3,ncols=3, sharex=True,sharey=True, figsize=(7,7/1.6))#, dpi=600)\n",
    "\n",
    "\n",
    "### FIRST ROW #####\n",
    "# plot the einstein results\n",
    "tmax = 100.0\n",
    "dt = 1e-2\n",
    "k1 = 1/2# inverse rest time\n",
    "k2 = 1 # inverse step distance\n",
    "t = np.arange(0,tmax,dt)\n",
    "for i in range(5):\n",
    "    axes[0,0].plot(*einwalk(k1=k1,k2=k2,dt=dt,tmax=20),color='black',lw=2)\n",
    "# plot the lisle results\n",
    "for i in range(5):\n",
    "    v = 1 # velocity\n",
    "    k2 = k2/v\n",
    "    walk = walkit(k0=k1,k1=k2,tmax=20,v=v,theta0=0,theta1=1)\n",
    "    tm = walk[0].max()\n",
    "    ts = np.arange(0,tm,1e-3)\n",
    "    xs = dispit(walk,ts)\n",
    "    axes[0,1].plot(ts,xs,color='black',lw=2)\n",
    "# plot the new results\n",
    "for i in range(5):\n",
    "    kap = 1/5.0\n",
    "    v = 1 # velocity\n",
    "    walk = walkit2(kap=kap, k0=k1,k1=k2,tmax=20,v=v,theta0=0,theta1=1)\n",
    "    tm = walk[0].max()\n",
    "    ts = np.arange(0,tm,1e-3)\n",
    "    xs = dispit2(walk,ts)\n",
    "    axes[0,2].plot(ts,xs,color='black',lw=2)\n",
    "    \n",
    "    \n",
    "#### SECOND ROW #####\n",
    "# einstein\n",
    "k1 = 1/2# inverse rest time\n",
    "k2 = 1 # inverse step distance\n",
    "def einmean(t):\n",
    "    return k2/k1*t\n",
    "axes[1,0].loglog(t,einmean(t),color='black',lw=2)\n",
    "\n",
    "# lisle\n",
    "v = 1 # velocity\n",
    "k2 = k2/v\n",
    "kap = 1e-9\n",
    "axes[1,1].loglog(t,cumulants(t,1,k1,k2,kap,v),color='black',lw=2)\n",
    "# new\n",
    "\n",
    "# set the xlabels\n",
    "axes[2,0].set_xlabel(r'$t$',fontsize=12)\n",
    "axes[2,1].set_xlabel(r'$t$',fontsize=12)\n",
    "axes[2,2].set_xlabel(r'$t$',fontsize=12)\n",
    "# ylabels \n",
    "axes[0,0].set_ylabel(r'$x$',fontsize=12,rotation=0)\n",
    "axes[1,0].set_ylabel(r'$\\langle x \\rangle$',fontsize=12,rotation=0)\n",
    "axes[2,0].set_ylabel(r'$\\sigma_x^2$',fontsize=12,rotation=0)\n",
    "# titles\n",
    "axes[0,0].set_title('Einstein (1937)',fontsize=12)\n",
    "axes[0,1].set_title('Lisle et al. (1998)',fontsize=12)\n",
    "axes[0,2].set_title('Trapping model',fontsize=12)\n",
    "# set the xlims on the first row\n",
    "for ax in axes[:,0]:\n",
    "    ax.set_ylim(0,10)\n",
    "    ax.set_xlim(0,20)\n",
    "# set the xlims on the second row\n",
    "#for ax in axes[:,1]:\n",
    "    #ax.set_ylim(1e-3,1)\n",
    "    #ax.set_xlim(1e-3,10)"
   ]
  },
  {
   "cell_type": "markdown",
   "metadata": {},
   "source": [
    "# simulate the trapping process"
   ]
  },
  {
   "cell_type": "code",
   "execution_count": 300,
   "metadata": {},
   "outputs": [
    {
     "ename": "KeyboardInterrupt",
     "evalue": "",
     "output_type": "error",
     "traceback": [
      "\u001b[0;31m---------------------------------------------------------------------------\u001b[0m",
      "\u001b[0;31mKeyboardInterrupt\u001b[0m                         Traceback (most recent call last)",
      "\u001b[0;32m<ipython-input-300-015cdda49607>\u001b[0m in \u001b[0;36m<module>\u001b[0;34m()\u001b[0m\n\u001b[1;32m     10\u001b[0m \u001b[0mtm\u001b[0m \u001b[0;34m=\u001b[0m \u001b[0mwalk\u001b[0m\u001b[0;34m[\u001b[0m\u001b[0;36m0\u001b[0m\u001b[0;34m]\u001b[0m\u001b[0;34m.\u001b[0m\u001b[0mmax\u001b[0m\u001b[0;34m(\u001b[0m\u001b[0;34m)\u001b[0m\u001b[0;34m\u001b[0m\u001b[0;34m\u001b[0m\u001b[0m\n\u001b[1;32m     11\u001b[0m \u001b[0mts\u001b[0m \u001b[0;34m=\u001b[0m \u001b[0mnp\u001b[0m\u001b[0;34m.\u001b[0m\u001b[0marange\u001b[0m\u001b[0;34m(\u001b[0m\u001b[0;36m0\u001b[0m\u001b[0;34m,\u001b[0m\u001b[0mtm\u001b[0m\u001b[0;34m,\u001b[0m\u001b[0;36m1e-3\u001b[0m\u001b[0;34m)\u001b[0m\u001b[0;34m\u001b[0m\u001b[0;34m\u001b[0m\u001b[0m\n\u001b[0;32m---> 12\u001b[0;31m \u001b[0mxs\u001b[0m \u001b[0;34m=\u001b[0m \u001b[0mdispit2\u001b[0m\u001b[0;34m(\u001b[0m\u001b[0mwalk\u001b[0m\u001b[0;34m,\u001b[0m\u001b[0mts\u001b[0m\u001b[0;34m)\u001b[0m\u001b[0;34m\u001b[0m\u001b[0;34m\u001b[0m\u001b[0m\n\u001b[0m",
      "\u001b[0;32m<ipython-input-205-b7d61b9e8538>\u001b[0m in \u001b[0;36mdispit2\u001b[0;34m(walk, ts, v)\u001b[0m\n\u001b[1;32m     47\u001b[0m     \u001b[0mt\u001b[0m\u001b[0;34m,\u001b[0m\u001b[0mxs\u001b[0m \u001b[0;34m=\u001b[0m \u001b[0mwalk\u001b[0m\u001b[0;34m\u001b[0m\u001b[0;34m\u001b[0m\u001b[0m\n\u001b[1;32m     48\u001b[0m     \u001b[0mi\u001b[0m \u001b[0;34m=\u001b[0m \u001b[0mnp\u001b[0m\u001b[0;34m.\u001b[0m\u001b[0msearchsorted\u001b[0m\u001b[0;34m(\u001b[0m\u001b[0mt\u001b[0m\u001b[0;34m,\u001b[0m\u001b[0mts\u001b[0m\u001b[0;34m,\u001b[0m\u001b[0mside\u001b[0m\u001b[0;34m=\u001b[0m\u001b[0;34m'left'\u001b[0m\u001b[0;34m)\u001b[0m\u001b[0;34m\u001b[0m\u001b[0;34m\u001b[0m\u001b[0m\n\u001b[0;32m---> 49\u001b[0;31m     \u001b[0mxs\u001b[0m \u001b[0;34m=\u001b[0m \u001b[0mxs\u001b[0m\u001b[0;34m[\u001b[0m\u001b[0mi\u001b[0m\u001b[0;34m]\u001b[0m\u001b[0;34m\u001b[0m\u001b[0;34m\u001b[0m\u001b[0m\n\u001b[0m\u001b[1;32m     50\u001b[0m     \u001b[0mxs\u001b[0m\u001b[0;34m[\u001b[0m\u001b[0mxs\u001b[0m\u001b[0;34m==\u001b[0m\u001b[0;34m-\u001b[0m\u001b[0;36m1\u001b[0m\u001b[0;34m]\u001b[0m\u001b[0;34m=\u001b[0m\u001b[0;36m0\u001b[0m\u001b[0;34m\u001b[0m\u001b[0;34m\u001b[0m\u001b[0m\n\u001b[1;32m     51\u001b[0m     \u001b[0mdt\u001b[0m \u001b[0;34m=\u001b[0m \u001b[0mts\u001b[0m\u001b[0;34m[\u001b[0m\u001b[0;36m1\u001b[0m\u001b[0;34m]\u001b[0m\u001b[0;34m-\u001b[0m\u001b[0mts\u001b[0m\u001b[0;34m[\u001b[0m\u001b[0;36m0\u001b[0m\u001b[0;34m]\u001b[0m\u001b[0;34m\u001b[0m\u001b[0;34m\u001b[0m\u001b[0m\n",
      "\u001b[0;31mKeyboardInterrupt\u001b[0m: "
     ]
    }
   ],
   "source": [
    "t = np.geomspace(1e-3,1e6,50000)\n",
    "motion = 1.0\n",
    "rest = 1e2\n",
    "trap = 1e5\n",
    "k1 = 1/rest\n",
    "k2 = 1/motion\n",
    "kap = 1/trap\n",
    "v=0.5\n",
    "walk = walkit2(kap=kap, k0=k1,k1=k2,tmax=1e6,v=v,theta0=0,theta1=1)\n",
    "tm = walk[0].max()\n",
    "ts = np.arange(0,tm,1e-3)\n",
    "xs = dispit2(walk,ts)"
   ]
  },
  {
   "cell_type": "code",
   "execution_count": 15,
   "metadata": {
    "collapsed": true
   },
   "outputs": [],
   "source": [
    "def A1(kap):\n",
    "    kp = k1+k2\n",
    "    a = (kap+kp)/2.0\n",
    "    b = np.sqrt(a**2-kap*k2)\n",
    "    #plt.plot(kap,A1(kap))    \n",
    "    return v/(2*b)*(1+(kap+k1)/(b-a))\n"
   ]
  },
  {
   "cell_type": "code",
   "execution_count": 17,
   "metadata": {},
   "outputs": [
    {
     "data": {
      "text/plain": [
       "[<matplotlib.lines.Line2D at 0x7f7432363a20>]"
      ]
     },
     "execution_count": 17,
     "metadata": {},
     "output_type": "execute_result"
    },
    {
     "data": {
      "image/png": "[encoded data removed]",
      "text/plain": [
       "<Figure size 432x288 with 1 Axes>"
      ]
     },
     "metadata": {},
     "output_type": "display_data"
    }
   ],
   "source": [
    "kap = np.linspace(1e-6,10,100)\n",
    "plt.plot(kap,A1(kap))"
   ]
  },
  {
   "cell_type": "code",
   "execution_count": null,
   "metadata": {
    "collapsed": true
   },
   "outputs": [],
   "source": []
  },
  {
   "cell_type": "code",
   "execution_count": null,
   "metadata": {
    "collapsed": true
   },
   "outputs": [],
   "source": []
  }
 ],
 "metadata": {
  "kernelspec": {
   "display_name": "Python [conda env:anaconda3]",
   "language": "python",
   "name": "conda-env-anaconda3-py"
  },
  "language_info": {
   "codemirror_mode": {
    "name": "ipython",
    "version": 3
   },
   "file_extension": ".py",
   "mimetype": "text/x-python",
   "name": "python",
   "nbconvert_exporter": "python",
   "pygments_lexer": "ipython3",
   "version": "3.6.7"
  }
 },
 "nbformat": 4,
 "nbformat_minor": 2
}
