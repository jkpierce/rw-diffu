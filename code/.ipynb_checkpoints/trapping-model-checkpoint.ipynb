{
 "cells": [
  {
   "cell_type": "code",
   "execution_count": 1,
   "metadata": {
    "collapsed": true
   },
   "outputs": [],
   "source": [
    "import numpy as np\n",
    "import matplotlib.pyplot as plt\n",
    "import matplotlib\n",
    "%matplotlib inline\n",
    "plt.rcParams['figure.figsize'] = [20, 10]\n",
    "matplotlib.rcParams['font.size'] = \"32\""
   ]
  },
  {
   "cell_type": "markdown",
   "metadata": {},
   "source": [
    "# this code simulations the 3srw with trapping"
   ]
  },
  {
   "cell_type": "code",
   "execution_count": 4,
   "metadata": {
    "collapsed": true
   },
   "outputs": [],
   "source": [
    "def walkit(k1=1.0,k2=1.0,kap=1.0,v=1.0,dt=1e-2,tmax=10,theta1=0.5,theta2=0.5):\n",
    "    \"\"\"\n",
    "    kap is the trapping rate from rest\n",
    "    k1 is the inverse mean resting time\n",
    "    k2 is the inverse mean moving time\n",
    "    v is the velocity\n",
    "    tmax is the maximum time to walk\n",
    "    theta1 is the probability of starting at rest\n",
    "    theta2 is the probability of starting in motion\n",
    "    \"\"\"\n",
    "    s = int(np.random.random() > theta1) + 1 # initial state\n",
    "    N = int(tmax/dt) # number of iterations\n",
    "    X = np.empty(N+1) # displacement array\n",
    "    R = np.random.random(size=(N,2)) # uniform randoms\n",
    "    t = 0.0 # initial time\n",
    "    x = 0.0\n",
    "    X[0]=x\n",
    "    for n,(r1,r2) in enumerate(R):\n",
    "        t += dt\n",
    "        if s==1: # if in a rest state\n",
    "            val1 = 1 - np.exp(-k1*dt) > r1 # probability that transition to motion occurs\n",
    "            val2 = 1 - np.exp(-kap*dt) > r2  # probability that trapping occurs \n",
    "            if val1 and not val2: # provided it does not trap and does transition to motion\n",
    "                s = 2  # move it to the motion state\n",
    "            elif val2: # otherwise if it did trap \n",
    "                s=0 # move it to the trapped state\n",
    "                #print('trapped at {}'.format(t))\n",
    "                X[n:]=x\n",
    "                break\n",
    "        elif s==2: # if in a motion state\n",
    "            x = x + v*dt # displacement\n",
    "            if np.exp(-k2*dt)<r1:\n",
    "                s = 1   # transitions to rest\n",
    "        X[n+1] = x\n",
    "    return X[:-1]\n",
    "\n",
    "def ens(Nens = 100, k1=1.0,k2=1.0,kap=1.0,v=1.0,dt=1e-2,tmax=10,theta1=0.5,theta2=0.5):\n",
    "    \"\"\" do an ensemble of Nens (number) simulations \n",
    "    rows of X are individual simulations\"\"\"\n",
    "    N = int(tmax/dt) # number of iterations\n",
    "    X = np.empty((Nens,N))\n",
    "    for n in range(Nens):\n",
    "        x = walkit(k1=k1,k2=k2,kap=kap,v=v,dt=dt,tmax=tmax,theta1=theta1,theta2=theta2)\n",
    "        X[n,:]=x\n",
    "    T = np.arange(0,tmax,dt)\n",
    "    return T,X\n",
    "\n",
    "def cumulants(t,flag,k1,k2,kap,v):\n",
    "    \"\"\" this provides the cumulants starting from theta_1= 0 (motion) \"\"\"\n",
    "    kp = k1 + k2\n",
    "    exp=np.exp\n",
    "    sqrt = np.sqrt\n",
    "    a = (kap+kp)/2.0\n",
    "    b = sqrt(a**2-kap*k2)\n",
    "    A1 = v/(2*b)*(1+(kap+k1)/(b-a))\n",
    "    B1 = v/(2*b)*(-1+(kap+k1)/(a+b))\n",
    "    C1 = -v/(2*b)*(1/(b-a)+1/(a+b))*(kap+k1)\n",
    "    def A2(t):\n",
    "        out = b+(b-a)*(b*t-1)+2*(kap+k1)*(b*t-1)\n",
    "        out += (kap+k1)**2/(a-b)**2*(-a*b*t+a+b*(b*t-2))\n",
    "        return v**2/(2*b**3)*out\n",
    "    def B2(t):\n",
    "        out = b-(a+b)*(b*t+1)+2*(kap+k1)*(b*t+1) # sign is correct here.\n",
    "        out += -(kap+k1)**2/(a+b)**2*(b*t*(a+b)+a+2*b)\n",
    "        return v**2/(2*b**3)*out\n",
    "    C2 = v**2/(2*b**3)*(kap+k1)**2*((a+2*b)/(a+b)**2 + (-a+2*b)/(a-b)**2)\n",
    "    if flag==1: # compute the mean\n",
    "        return A1*exp((b-a)*t)+B1*exp(-(a+b)*t)+C1\n",
    "    elif flag==2: # compute the var\n",
    "        out = (A2(t)-2*A1*C1-A1**2*exp((b-a)*t))*exp((b-a)*t)\n",
    "        out += (B2(t)-2*B1*C1-B1**2*exp(-(a+b)*t))*exp(-(a+b)*t)\n",
    "        out += C2 - C1**2 - 2*A1*B1*exp(-2*a*t)\n",
    "        return out"
   ]
  },
  {
   "cell_type": "code",
   "execution_count": null,
   "metadata": {},
   "outputs": [],
   "source": [
    "tmotion = 10.0\n",
    "trest = 100.0\n",
    "ttrap = 1000.0\n",
    "\n",
    "k2 = 1/tmotion\n",
    "k1 = 1/trest\n",
    "kap = 1/ttrap\n",
    "v = 0.5\n",
    "theta1 = 0.0\n",
    "theta2 = 1.0\n",
    "T,X = ens(100,dt=1e-3,tmax=10000,k1=k1,k2=k2,kap=kap,theta1=theta1,theta2=theta2,v=v)"
   ]
  },
  {
   "cell_type": "code",
   "execution_count": null,
   "metadata": {},
   "outputs": [],
   "source": [
    "# compute variance\n",
    "var = X.var(0)\n",
    "# resample and plot points with geometric spacing\n",
    "tmin = 1e-3 # smallest time to account for\n",
    "tmax = T.max() # largest \n",
    "nperorder = 10 # number of points to keep per order of magnitude \n",
    "ts = np.geomspace(tmin,tmax,nperorder*int(np.ceil(np.log10(tmax/tmin)))) # set of sampling times\n",
    "digits = np.digitize(T, ts) # indices of T into the bins of ts\n",
    "var_ds = [var[digits==j].mean() for j in range(0,len(ts))] # downsampled variance"
   ]
  },
  {
   "cell_type": "code",
   "execution_count": null,
   "metadata": {},
   "outputs": [],
   "source": [
    "#plt.loglog(T,var,color='black')\n",
    "plt.loglog(ts,var_ds,'x',color='black',markersize=12)\n",
    "plt.loglog(ts,cumulants(ts,2,k1,k2,kap,v),color='black',lw=3)\n",
    "\n",
    "plt.ylim(1e-6,1e4)\n",
    "plt.xlim(1e-1,1e5)"
   ]
  },
  {
   "cell_type": "code",
   "execution_count": null,
   "metadata": {
    "scrolled": true
   },
   "outputs": [],
   "source": [
    "tm = 1\n",
    "tr = 10\n",
    "tt = 100000\n",
    "k1 = 1/tr\n",
    "k2 = 1/tm\n",
    "kap = 1/tt\n",
    "v=0.1\n",
    "t = np.geomspace(1e-3,1e7,100)\n",
    "plt.loglog(t,cumulants(t,2,k1,k2,kap,v),color='blue',lw=2)#,marker='x',linestyle='None')\n",
    "plt.ylim(1e-8,1e8)\n",
    "plt.xlim(1e-3,1e7)\n",
    "\n",
    "# k1/(k1+k2) is fraction of time spent in motion\n",
    "# k2/(k1+k2) is fraction of time spent at rest\n",
    "\n",
    "# crossover from 1st ballistic regime\n",
    "time1 = 1/np.sqrt(k1*k2)\n",
    "plt.axvline(time1,color='black')\n",
    "\n",
    "# crossover zone from 2nd ballistic regime\n",
    "tau1 = 1/kap\n",
    "tau2 = 1/(k1*kap/(k1+k2))\n",
    "time3 = np.sqrt(tau1*tau2)\n",
    "plt.axvline(time3,color='black')\n",
    "plt.xlabel(r'$t$',fontsize=12)\n",
    "plt.ylabel(r'$\\sigma_x^2(t)$',rotation=0,fontsize=12)\n",
    "\n",
    "# crossover zone into 2nd ballistic regime\n",
    "#plt.axvline(np.sqrt(1/kap/k2))\n",
    "#plt.axvline(np.sqrt(1/kap*1/(k1*kap/(k1+k2))))\n",
    "\n",
    "# mix the lower two times... \n",
    "time2 = (1/k1*tau2)**(1/2)\n",
    "plt.axvline(time2,color='black')\n",
    "\n",
    "fig = plt.gcf()\n",
    "fig.set_figheight(7/1.6)\n",
    "fig.set_figwidth(7)\n",
    "fig.savefig('../grl/figures/diffusion.png', bbox_inches='tight',dpi=600)"
   ]
  },
  {
   "cell_type": "code",
   "execution_count": null,
   "metadata": {
    "scrolled": true
   },
   "outputs": [],
   "source": [
    "\n",
    "val = 1e-2\n",
    "# local range\n",
    "t0 = np.geomspace(1e-2,time1,100)\n",
    "plt.loglog(t0,t0**3*val,linestyle='-.',color='black')\n",
    "val = (t0**3*val).max()\n",
    "# intermediate range\n",
    "t1 = np.geomspace(time1,time2,100)\n",
    "plt.loglog(t1,t1/t1.min()*val,linestyle='-.',color='black')\n",
    "val = (t1/t1.min()*val).max()\n",
    "# global range\n",
    "t2 = np.geomspace(time2,time3,100)\n",
    "plt.loglog(t2,t2**3/(t2**3).min()*val,linestyle='-.',color='black')\n",
    "# geomorphic range"
   ]
  }
 ],
 "metadata": {
  "kernelspec": {
   "display_name": "Python [conda env:anaconda3]",
   "language": "python",
   "name": "conda-env-anaconda3-py"
  },
  "language_info": {
   "codemirror_mode": {
    "name": "ipython",
    "version": 3
   },
   "file_extension": ".py",
   "mimetype": "text/x-python",
   "name": "python",
   "nbconvert_exporter": "python",
   "pygments_lexer": "ipython3",
   "version": "3.6.7"
  }
 },
 "nbformat": 4,
 "nbformat_minor": 2
}
