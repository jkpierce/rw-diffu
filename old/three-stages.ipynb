{
 "cells": [
  {
   "cell_type": "code",
   "execution_count": null,
   "metadata": {},
   "outputs": [],
   "source": [
    "import numpy as np\n",
    "import matplotlib.pyplot as plt\n",
    "%matplotlib inline"
   ]
  },
  {
   "cell_type": "markdown",
   "metadata": {},
   "source": [
    "# the goal of this notebook is to simulate a 2 state random walk.\n",
    "## Does it show 3 stages of diffusion when mean resting times diverge?"
   ]
  },
  {
   "cell_type": "code",
   "execution_count": null,
   "metadata": {},
   "outputs": [],
   "source": [
    "def walkit(k0,k1,N,rest='exp'):\n",
    "    \"\"\" realize a random walk \n",
    "    k0 is resting time parameter\n",
    "    k1 is motion time parameter\n",
    "    N is number of double phases.\n",
    "    for exponential, put rest='exp'\n",
    "    for power law, put rest='pow'\n",
    "    and set k0 = (a,t0)\n",
    "    a is the power law tail parameter\n",
    "    t0 is the minimum truncation time\n",
    "    \"\"\"\n",
    "    #N = 500 # number of double phases\n",
    "    #k0 = 1.0 # mean resting time\n",
    "    #k1 = 1.0 # mean motion time\n",
    "    if rest=='exp':\n",
    "        psi0 = np.random.exponential(scale=k0,size=N)\n",
    "    elif rest=='pow':\n",
    "        a,m = k0\n",
    "        psi0 =(np.random.pareto(a, N) + 1) * m\n",
    "    psi1 = np.random.exponential(scale=k1,size=N)\n",
    "    t = np.empty(2*N).astype('float') # sequence of times\n",
    "    t[0::2] = psi0\n",
    "    t[1::2] = psi1\n",
    "    t = t.cumsum() # sum the times\n",
    "    t = np.array([0]+list(t[:-1])) # needs to start from 0\n",
    "    s = np.empty(2*N).astype('int')# sequence of states\n",
    "    s[0::2] = 0 # starts at rest\n",
    "    s[1::2] = 1\n",
    "    return t,s\n",
    "\n",
    "def plotit(walk):\n",
    "    \"\"\"plot a random walk\"\"\"\n",
    "    t,s = walk\n",
    "    widths = np.diff(t)\n",
    "    plt.bar(t[:-1],s[:-1]+1,widths,align='edge',edgecolor='black')\n",
    "\n",
    "def xit(walk):\n",
    "    #calculate displacement versus time on a grid... \n",
    "    dt = 1e-3 # sampling interval \n",
    "    t,s = walk # realize a walk\n",
    "    tmax = t.max()\n",
    "    ts = np.arange(0,tmax,dt) # set of sampling times\n",
    "    xs = np.zeros_like(ts) # set of positions\n",
    "    i = np.searchsorted(t,ts)+1 # s[i] is the state at each sampling time\n",
    "    i = i[i<len(s)] # only include values within the physical range t..not all values of ts  \n",
    "    u = 1.0 # velocity\n",
    "    mask = s[i]==1 # positions in x where movement happens\n",
    "    # mask of all positions in x where movement hapns\n",
    "    xs = xs[:len(mask)]\n",
    "    ts = ts[:len(mask)]\n",
    "    xs[mask]=u*dt\n",
    "    xs = xs.cumsum()\n",
    "    return ts,xs\n",
    "\n",
    "def ensit(k0,k1,N,rest='exp',n=100,cutoff=None):\n",
    "    \"\"\"generate an ensemble of n walkers using walkfn\n",
    "    formed from a particular parameter choice in walkit \n",
    "    cufoff is the maximum time to account for\"\"\"\n",
    "    # generate an ensemble of walks\n",
    "    tmax=0\n",
    "    t = []\n",
    "    disps = []\n",
    "    for i in range(n):\n",
    "        walk = walkit(k0,k1,N,rest=rest)\n",
    "        if cutoff:\n",
    "            ts,xs = xit(walk)\n",
    "            xs = xs[ts<cutoff] # clip the arrays at the cutoff time \n",
    "            ts = ts[ts<cutoff] # this prevents memory explosion\n",
    "            if len(ts)>len(t): # keep only the longest time array\n",
    "                t = ts\n",
    "            disps.append(xs)\n",
    "        else:\n",
    "            ts,xs = xit(walk)\n",
    "            if len(ts)>len(t): # keep only the longest time array\n",
    "                t = ts\n",
    "            disps.append(xs)            \n",
    "    disps = np.array(disps) # this makes a jagged array since the random walk simulations\n",
    "    # will all have different lengths \n",
    "    # now post process\n",
    "    # add nans to all arrays to make the jagged array square\n",
    "    def numpy_fillna(data):\n",
    "        # Get lengths of each row of data\n",
    "        lens = np.array([len(i) for i in data])\n",
    "        # Mask of valid places in each row\n",
    "        mask = np.arange(lens.max()) < lens[:,None]\n",
    "        # Setup output array and put elements from data into masked positions\n",
    "        out = np.ones(mask.shape)*np.nan\n",
    "        out[mask] = np.concatenate(data)\n",
    "        return out\n",
    "    disps = numpy_fillna(disps) # jagged array is now square\n",
    "    return t, disps\n",
    "\n",
    "def meanit(t, disps):\n",
    "    val = np.nanmean(disps,0)\n",
    "    mask = ~np.isnan(disps) # only include points wiht at least 50 samples\n",
    "    mask = mask.sum(0)>50 # require at least 50 to not be nan in each time point\n",
    "    return t[mask],val[mask]\n",
    "\n",
    "def varit(t,disps):\n",
    "    val = np.nanvar(disps,0)\n",
    "    mask = ~np.isnan(disps) # only include points wiht at least 50 samples\n",
    "    mask = mask.sum(0)>50 # require at least 50 to not be nan in each time point\n",
    "    return t[mask],val[mask]"
   ]
  },
  {
   "cell_type": "code",
   "execution_count": null,
   "metadata": {
    "scrolled": true
   },
   "outputs": [],
   "source": [
    "walk = walkit(1,1,10)\n",
    "plotit(walk)"
   ]
  },
  {
   "cell_type": "code",
   "execution_count": null,
   "metadata": {},
   "outputs": [],
   "source": [
    "t,disps = ensit(1,1,100,n=100,cutoff= 100)\n",
    "tv,var = varit(t,disps)\n",
    "plt.loglog(tv,var,color='purple')\n",
    "plt.xlim(1e-3)\n",
    "plt.ylim(1e-6)\n",
    "\n",
    "t,disps = ensit(0.1,1,100,n=100,cutoff=100)\n",
    "tv,var = varit(t,disps)\n",
    "plt.loglog(tv,var,color='blue')\n",
    "plt.xlim(1e-3)\n",
    "plt.ylim(1e-6)"
   ]
  },
  {
   "cell_type": "markdown",
   "metadata": {},
   "source": [
    "# ok. exponential case works fine now. Need to implement power law case."
   ]
  },
  {
   "cell_type": "code",
   "execution_count": null,
   "metadata": {},
   "outputs": [],
   "source": [
    "a, m = 3., 2.  # shape and mode\n",
    "s = (np.random.pareto(a, 1000) + 1) * m"
   ]
  },
  {
   "cell_type": "code",
   "execution_count": null,
   "metadata": {},
   "outputs": [],
   "source": [
    "_=plt.hist(s,bins=50)"
   ]
  },
  {
   "cell_type": "code",
   "execution_count": null,
   "metadata": {},
   "outputs": [],
   "source": [
    "%memit \n",
    "t,disps = ensit((1.5,3),1,100,n=100,rest='pow',cutoff=100)\n",
    "tv,var = varit(t,disps)\n",
    "plt.loglog(tv,var,color='purple')\n",
    "plt.xlim(1e-3)\n",
    "plt.ylim(1e-6)\n",
    "\n",
    "# you stopped here. \n",
    "# got to add a maximum time in ensit. the thing explodes with power-law tails."
   ]
  },
  {
   "cell_type": "code",
   "execution_count": null,
   "metadata": {},
   "outputs": [],
   "source": []
  }
 ],
 "metadata": {
  "kernelspec": {
   "display_name": "Python 3",
   "language": "python",
   "name": "python3"
  },
  "language_info": {
   "codemirror_mode": {
    "name": "ipython",
    "version": 3
   },
   "file_extension": ".py",
   "mimetype": "text/x-python",
   "name": "python",
   "nbconvert_exporter": "python",
   "pygments_lexer": "ipython3",
   "version": "3.7.0"
  }
 },
 "nbformat": 4,
 "nbformat_minor": 2
}
