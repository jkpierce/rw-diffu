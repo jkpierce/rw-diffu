{
 "cells": [
  {
   "cell_type": "code",
   "execution_count": 65,
   "metadata": {
    "collapsed": true
   },
   "outputs": [],
   "source": [
    "import numpy as np\n",
    "import matplotlib.pyplot as plt\n",
    "import matplotlib\n",
    "%matplotlib inline\n",
    "#plt.rcParams['figure.figsize'] = [20, 10]\n",
    "matplotlib.rcParams['font.size'] = \"15\"\n",
    "from IPython.display import clear_output"
   ]
  },
  {
   "cell_type": "markdown",
   "metadata": {},
   "source": [
    "# this code simulates the 3srw with trapping"
   ]
  },
  {
   "cell_type": "code",
   "execution_count": 449,
   "metadata": {
    "collapsed": true
   },
   "outputs": [],
   "source": [
    "def walkit(k1=1.0,k2=1.0,kap=1.0,v=1.0,dt=1e-2,tmax=10,theta1=0.5,theta2=0.5,retT=False,T='geom'):\n",
    "    \"\"\"\n",
    "    kap is the trapping rate from rest\n",
    "    k1 is the inverse mean resting time\n",
    "    k2 is the inverse mean moving time\n",
    "    v is the velocity\n",
    "    dt is the sampling interval\n",
    "    tmax is the maximum time to walk\n",
    "    theta1 is the probability of starting at rest\n",
    "    theta2 is the probability of starting in motion\n",
    "    retT is True or False and tells the function whether to return the set of sampling times\n",
    "    T is the set of sampling times. if 'geom',\n",
    "    they are generated as geometrically spaced with 10 per order of magnitude\n",
    "    if 'lin', they are generated with interval dt. \n",
    "    They can also be input as whatever else. \n",
    "    \"\"\"\n",
    "    # check if the initial conditions are appropriate\n",
    "    if theta1+theta2!=1.0:\n",
    "        raise Exception('Initial conditions do not sum to 1.0!')\n",
    "    # selection the initial condition\n",
    "    s = int(np.random.random() > theta1) + 1 # initial state\n",
    "    \n",
    "    # process the set of sampling times\n",
    "    if T=='geom':\n",
    "        nperorder = 10\n",
    "        tmin = dt\n",
    "        T = np.geomspace(tmin,tmax,nperorder*int(np.ceil(np.log10(tmax/tmin)))) # set of recording times\n",
    "    elif T=='dt':\n",
    "        T = np.arange(0,tmax+dt,dt)\n",
    "    else:\n",
    "        raise Exception('Problem with the input T! not equal to geom or dt')\n",
    "        \n",
    "    # initialize the simulation\n",
    "    X = np.empty_like(T) # set of recorded displacements\n",
    "    t = 0.0 # initial time\n",
    "    x = 0.0 # initial position\n",
    "    ns = 0 # saving index\n",
    "    ts = T[ns] # next saving time\n",
    "    nr = 0 # random number index\n",
    "    nrbatch = 5000 # number of random values to generate at once\n",
    "    R = np.random.random(size=(nrbatch,2)) # generate the first set of random values\n",
    "    # start the simulation\n",
    "    while t<tmax-dt:\n",
    "        t += dt # update the time \n",
    "        r1,r2 = R[nr] # get a pair of randoms\n",
    "        nr+=1  #update the index into the array of random values\n",
    "        if s==1: # if walker is in a rest state\n",
    "            val1 = 1 - np.exp(-k1*dt) > r1 # probability that transition to motion occurs\n",
    "            val2 = 1 - np.exp(-kap*dt) > r2  # probability that trapping occurs \n",
    "            if val1 and not val2: # provided walker does not trap and does transition to motion\n",
    "                s = 2  # move it to the motion state\n",
    "            elif val2: # otherwise if walker traps,\n",
    "                s=0 # move it to the trapped state\n",
    "                X[ns:]=x # make all future elements of X have position x\n",
    "                break # stop the simulation\n",
    "        elif s==2: # if walker is in a motion state\n",
    "            x = x + v*dt # walker moves a distance v*dt\n",
    "            if np.exp(-k2*dt)<r1: # if walker transitions to a rest state\n",
    "                s = 1   # assign it to rest \n",
    "        ### save the state of the walk \n",
    "        if t>=ts: # if t surpassed the save time\n",
    "            X[ns] = x # save the value of x \n",
    "            ns+=1 # increment the saving index\n",
    "            ts=T[ns] # find the next time saving happens       \n",
    "        ### generate more random values when necessary \n",
    "        if nr==nrbatch-1: # if you're at the end of the list of randoms\n",
    "            nr = 0  # reset the index into that list \n",
    "            R = np.random.random(size=(nrbatch,2)) # and regenerate the list\n",
    "    return X # once the simulation is completed, return the set of positions \n",
    "\n",
    "def ens(Nens = 100, k1=1.0,k2=1.0,kap=1.0,v=1.0,dt=1e-5,tmax=100,theta1=0.5,theta2=0.5,T='geom'):\n",
    "    \"\"\" do an ensemble of Nens (number) simulations \n",
    "    rows (first index) of X are individual simulations\n",
    "    use geometrically spaced sampling intervals if T='geom'.\n",
    "    This is best for diffusion simulations. They will be viewed in\n",
    "    log space anyway.\n",
    "    otherwise if T='dt' sample at every timestep dt. \n",
    "    This gets very expensive but is nice for p(x,t) simulation\"\"\"\n",
    "    T0 = np.copy(T)\n",
    "    # generate the set of sampling times\n",
    "    if T=='geom':\n",
    "        nperorder = 10\n",
    "        tmin = dt\n",
    "        T = np.geomspace(tmin,tmax,nperorder*int(np.ceil(np.log10(tmax/tmin)))) # set of recording times\n",
    "    elif T=='dt':\n",
    "        T = np.arange(0,tmax+dt,dt)      \n",
    "    else:\n",
    "        raise Exception('Problem with the input T! not equal to geom or dt')        \n",
    "    # simulate the ensemble of walkers\n",
    "    X = np.empty((Nens,T.size))\n",
    "    for n in range(Nens):\n",
    "        x = walkit(k1=k1,k2=k2,kap=kap,v=v,dt=dt,tmax=tmax,theta1=theta1,theta2=theta2,T=T0)\n",
    "        X[n,:]=x\n",
    "        clear_output(wait=True)\n",
    "        print('sample {} of {}'.format(int(n+1),int(Nens)))\n",
    "    # return the output\n",
    "    return T,X\n",
    "\n",
    "def cumulants(t,flag,k1,k2,kap,v,theta2):\n",
    "    \"\"\" this provides the analytical cumulants from any initial conditions \n",
    "    flag =1 or 2 determines whether you want first or second cumulant\"\"\"\n",
    "    # generate useful combinations and shorthands \n",
    "    kp = k1 + k2\n",
    "    the2 = theta2\n",
    "    exp=np.exp\n",
    "    sqrt = np.sqrt\n",
    "    a = (kap+kp)/2.0\n",
    "    b = sqrt(a**2-kap*k2)\n",
    "    # compute the polynomials/transcendentals from the table\n",
    "    A1 = v/(2*b)*(the2+(the2*kap+k1)/(b-a))\n",
    "    B1 = -v/(2*b)*(the2-(the2*kap+k1)/(a+b))\n",
    "    C1 = -v/(2*b)*(1/(b-a)+1/(a+b))*(the2*kap+k1)\n",
    "    def A2(t):\n",
    "        out = (b*t-1)*(k1 + the2*(2*kap+k1+b-a))+the2*b\n",
    "        out += (kap+k1)*(the2*kap+k1)/(b-a)**2*((b*t-1)*(b-a)-b) \n",
    "        out *= v**2/(2*b**3)\n",
    "        return out\n",
    "    def B2(t):\n",
    "        out = (b*t+1)*(k1+the2*(2*kap+k1-a-b))+the2*b\n",
    "        out += -(kap+k1)*(the2*kap+k1)/(a+b)**2*((b*t+1)*(a+b)+b)\n",
    "        out *= v**2/(2*b**3)\n",
    "        return out\n",
    "    # IS THERE A SIGN ERROR IN (2b-a)/(b-a)**2???? NO.\n",
    "    C2 = v**2/(2*b**3)*(kap+k1)*(the2*kap+k1)*((2*b-a)/(b-a)**2+(a+2*b)/(a+b)**2)\n",
    "    # compute the mean or the variance, whichever is called for by 'flag'\n",
    "    if flag==1: # compute the mean\n",
    "        return A1*exp((b-a)*t)+B1*exp(-(a+b)*t)+C1\n",
    "    elif flag==2: # compute the var\n",
    "        out = (A2(t)-2*A1*C1-A1**2*exp((b-a)*t))*exp((b-a)*t)\n",
    "        out += (B2(t)-2*B1*C1-B1**2*exp(-(a+b)*t))*exp(-(a+b)*t)\n",
    "        out += C2 - C1**2 - 2*A1*B1*exp(-2*a*t)\n",
    "        return out\n",
    "    else:\n",
    "        raise Exception('bad argument for flag! It should be 1 for the mean or 2 for the variance.')\n",
    "        \n",
    "def p(x,t,kap,k1,k2,v,theta2):\n",
    "    \"\"\" plot the joint pdf over position and time.\n",
    "    This is the analytical result from the paper \n",
    "    involving modified bessel functions and complementary\n",
    "    marcum Q functions.\"\"\"\n",
    "    # compute other initial condition\n",
    "    theta1 = 1.0-theta2 \n",
    "    the1 = theta1 # shorthands \n",
    "    the2 = theta2\n",
    "    # get useful functions\n",
    "    from scipy.special import iv as I # modified bessel first kind\n",
    "    from scipy.stats import ncx2 # non central chi-sq dist.\n",
    "    from scipy.stats import norm # normal distribution to approximate dirac delta\n",
    "    exp = np.exp # exponential \n",
    "    sqrt = np.sqrt #sqrt\n",
    "    # make the arrays as high precision as possible to prevent\n",
    "    # any overflow in the special functions\n",
    "    t = np.asarray(t)  #so it can take a single value of t too \n",
    "    t = t.astype('float128') \n",
    "    x = x.astype('float64')\n",
    "    # form useful combinations of k1,k2,kap,t,x,v\n",
    "    kp = k1+k2\n",
    "    tau = k1*(t-x/v)\n",
    "    tau[tau<=0]=1e-9 # this keeps from dividing by zero\n",
    "    xi = k2*x/v\n",
    "    om = (kap+k1)/k1 \n",
    "    H = np.heaviside(tau,1)\n",
    "    # define the component special functions\n",
    "    def delta(x):\n",
    "        sig = 1e-2\n",
    "        mu = 0 \n",
    "        #return norm.pdf(x,mu,sig)\n",
    "        return 0 # turn this off for now. doesn't matter\n",
    "    def P1(x,y):\n",
    "        # complementary marcum q function of order 1\n",
    "        # P_1(x,y)= int_0^y dz e^{-z-x}I_0(2sqrt(xz))\n",
    "        Q = ncx2.cdf\n",
    "        return Q(y*2,df=2,nc=2*x)\n",
    "    def P2(x,y):\n",
    "        # complementary marcum q function of order 2\n",
    "        # notice nc is 2x, df = 2mu, x = 2y to match\n",
    "        # the notation in Temme 1996 eq. 11.63(a)\n",
    "        # P_2(x,y)= int_0^y dz (z/x)^{1/2} e^{-z-x}I_0(2sqrt(xz))\n",
    "        Q = ncx2.cdf\n",
    "        return Q(y*2,df=4,nc=2*x)\n",
    "    # now compute the distribution\n",
    "    arg = 2*sqrt(tau*xi)\n",
    "    out = the1*(1-1/om*(1-exp(-(kap+k1)*t)))*delta(x)\n",
    "    out += 1/v*exp(-om*tau-xi)*(the1*(k1*I(0,arg)+k2*sqrt(tau/xi)*I(1,arg))+the2*(k1*delta(tau)+k2*I(0,arg)+k1*sqrt(xi/tau)*I(1,arg)))\n",
    "    if kap!=0: # don't bother with the marcum q function terms if the trapping process is off. These will go to zero anyway, or just explode\n",
    "        out += 1/v*exp(-kap*xi/(kap+k1))*kap*k2/(kap+k1)*(the1/om*P2(xi/om,om*tau)+the2*P1(xi/om,om*tau)) #pdf from paper\n",
    "    return out #out*H is probably more correct, but this works fine.    \n",
    "\n",
    "def lislevar(t,k1,k2,v):\n",
    "    kp = k1+k2\n",
    "    exp = np.exp\n",
    "    term1 = 1/2*(1-exp(-2*kp*t))-kp*t*exp(-kp*t)\n",
    "    term1 *= k1/kp**4\n",
    "    term2 = 2*(exp(-kp*t)-1)+kp*t*(1+exp(-kp*t))\n",
    "    term2 *= k2/kp**4\n",
    "    return 2*v**2*k1*(term1+term2)\n",
    "def wuvar(t,k1,k2,kap,v):\n",
    "    l = v/k2\n",
    "    D = l**2*k1\n",
    "    c = l*k1\n",
    "    exp = np.exp\n",
    "    return 2*D/kap*(1-exp(-kap*t)) + c**2/kap**2*(1-exp(-2*kap*t)-2*kap*t*exp(-kap*t))"
   ]
  },
  {
   "cell_type": "markdown",
   "metadata": {},
   "source": [
    "# now study the diffusion "
   ]
  },
  {
   "cell_type": "code",
   "execution_count": 450,
   "metadata": {
    "collapsed": true
   },
   "outputs": [],
   "source": [
    "def approxmean(t,k2,k1,kap,v):\n",
    "    kp = k1+k2\n",
    "    exp = np.exp\n",
    "    return v*k1/(kap*k2)*(1-exp(-kap*k2/kp*t)) + v*k1/kp**2*(exp(-kp*t)-1)"
   ]
  },
  {
   "cell_type": "code",
   "execution_count": 451,
   "metadata": {},
   "outputs": [
    {
     "data": {
      "text/plain": [
       "[<matplotlib.lines.Line2D at 0x7f76e91dfdd8>]"
      ]
     },
     "execution_count": 451,
     "metadata": {},
     "output_type": "execute_result"
    },
    {
     "data": {
      "image/png": "[encoded data removed]",
      "text/plain": [
       "<Figure size 432x288 with 1 Axes>"
      ]
     },
     "metadata": {},
     "output_type": "display_data"
    }
   ],
   "source": [
    "T = np.geomspace(1e-4,1e7,1000)\n",
    "plt.loglog(T,approxmean(T,k2,k1,kap,v))\n",
    "plt.loglog(T,cumulants(T,1,k1,k2,kap,v,theta2=0))\n",
    "# this approximation is excellent. "
   ]
  },
  {
   "cell_type": "code",
   "execution_count": 253,
   "metadata": {
    "scrolled": true
   },
   "outputs": [
    {
     "data": {
      "text/plain": [
       "0.34065617480932175"
      ]
     },
     "execution_count": 253,
     "metadata": {},
     "output_type": "execute_result"
    }
   ],
   "source": [
    "# 0.34 percent error with this approximation\n",
    "np.sqrt(((approxmean(T,k2,k1,kap,v)-cumulants(T,1,k1,k2,kap,v,theta2=0))**2).sum()/T.size)*100"
   ]
  },
  {
   "cell_type": "code",
   "execution_count": 525,
   "metadata": {
    "collapsed": true
   },
   "outputs": [],
   "source": [
    "def A2approx(t,k2,k1,kap,v):\n",
    "    kp = k1+k2\n",
    "    outb = k1*(2-kp*t)*kp/(2*kap*k2) - (kap+k1)*kp**3/2/k2**2/kap**2\n",
    "    outb*= 4*k1*v**2/kp**3\n",
    "    return outb\n",
    "\n",
    "def B2approx(t,k2,k1,kap,v):\n",
    "    kp = k1+k2\n",
    "    outa = k2*(2+kp*t)/2/kp - (kap+k1)/2/kp\n",
    "    outa*= 4*k1*v**2/kp**3\n",
    "    return outa\n",
    "\n",
    "def C2approx(t,k2,k1,kap,v):\n",
    "    kp = k1+k2\n",
    "    out4 = (kap+k1)*(kp**3/(2*kap**2*k2**2) + 3/(2*kp))\n",
    "    return out4*(4*k1*v**2)/kp**3\n",
    "\n",
    "def A2(t,k2,k1,kap,v):\n",
    "    a = (k1+k2+kap)/2\n",
    "    b = np.sqrt(a**2-kap*k2)\n",
    "    return v**2/(2*b**3)*((b*t-1)*k1 + (kap+k1)*k1/(b-a)**2*((b*t-1)*(b-a)-b))\n",
    "\n",
    "def B2(t,k2,k1,kap,v):\n",
    "    a = (k1+k2+kap)/2\n",
    "    b = np.sqrt(a**2-kap*k2)\n",
    "    ret = (b*t+1)*k1 -(kap+k1)*k1/(a+b)**2*((b*t+1)*(a+b)*b)\n",
    "    ret *= v**2/2/b**3\n",
    "    return ret\n",
    "\n",
    "def C2(t,k2,k1,kap,v):\n",
    "    kp = k1+k2\n",
    "    a = (k1+k2+kap)/2\n",
    "    b = np.sqrt(a**2-kap*k2)    \n",
    "    const = v**2/2/b**3*(kap+k1)*k1\n",
    "    out2 = (2*b-a)/(b-a)**2 + (a+2*b)/(a+b)**2\n",
    "    return out2*const\n",
    "\n",
    "def secondmom(t,k2,k1,kap,v):\n",
    "    # generate useful combinations and shorthands \n",
    "    exp = np.exp\n",
    "    a = (k1+k2+kap)/2\n",
    "    b = np.sqrt(a**2-kap*k2)\n",
    "    out1 = np.zeros_like(t)\n",
    "    out1 += A2(t,k2,k1,kap,v)*exp((b-a)*t)# \n",
    "    print(b-a)\n",
    "    out1 += B2(t,k2,k1,kap,v)*exp(-(a+b)*t) \n",
    "    print(-(a+b))\n",
    "    out1 += C2(t,k2,k1,kap,v)\n",
    "    return out1\n",
    "\n",
    "def secondmomapprox(t,k2,k1,kap,v):\n",
    "    exp = np.exp\n",
    "    kp = k1+k2\n",
    "    out3 = np.zeros_like(t)\n",
    "\n",
    "    out3 += A2approx(t,k2,k1,kap,v)*exp(-kap*k2*t/kp)#\n",
    "    print(-kap*k2/kp)\n",
    "    out3 += B2approx(t,k2,k1,kap,v)*exp(-kp*t) \n",
    "    print(-kp)\n",
    "    out3 += C2approx(t,k2,k1,kap,v)\n",
    "    #print(k2,k1,kap,v)\n",
    "    \n",
    "    return out3"
   ]
  },
  {
   "cell_type": "code",
   "execution_count": 526,
   "metadata": {
    "collapsed": true
   },
   "outputs": [],
   "source": [
    "k2 = 10\n",
    "k1 = 1/100\n",
    "kap = 1/10000"
   ]
  },
  {
   "cell_type": "code",
   "execution_count": 527,
   "metadata": {},
   "outputs": [
    {
     "name": "stdout",
     "output_type": "stream",
     "text": [
      "-9.990009890348261e-05\n",
      "-10.010000099901095\n",
      "-9.99000999000999e-05\n",
      "-10.01\n"
     ]
    },
    {
     "data": {
      "text/plain": [
       "[<matplotlib.lines.Line2D at 0x7f76e3875ac8>]"
      ]
     },
     "execution_count": 527,
     "metadata": {},
     "output_type": "execute_result"
    },
    {
     "data": {
      "image/png": "[encoded data removed]",
      "text/plain": [
       "<Figure size 432x288 with 1 Axes>"
      ]
     },
     "metadata": {},
     "output_type": "display_data"
    }
   ],
   "source": [
    "T = np.geomspace(1e-6,1e4,1000)\n",
    "#T = np.float128(T)\n",
    "plt.loglog(T,secondmom(T,k2,k1,kap,v))\n",
    "plt.loglog(T,secondmomapprox(T,k2,k1,kap,v),color='red')\n",
    "#plt.ylim(1e-2,1e5)"
   ]
  },
  {
   "cell_type": "code",
   "execution_count": 516,
   "metadata": {},
   "outputs": [
    {
     "data": {
      "text/plain": [
       "[<matplotlib.lines.Line2D at 0x7f76e36acb38>]"
      ]
     },
     "execution_count": 516,
     "metadata": {},
     "output_type": "execute_result"
    },
    {
     "data": {
      "image/png": "[encoded data removed]",
      "text/plain": [
       "<Figure size 432x288 with 1 Axes>"
      ]
     },
     "metadata": {},
     "output_type": "display_data"
    }
   ],
   "source": [
    "plt.loglog(T,-A2(T,k2,k1,kap,v))\n",
    "plt.loglog(T,-1.1*A2approx(T,k2,k1,kap,v))"
   ]
  },
  {
   "cell_type": "code",
   "execution_count": 517,
   "metadata": {},
   "outputs": [
    {
     "data": {
      "text/plain": [
       "[<matplotlib.lines.Line2D at 0x7f76e35e3c50>]"
      ]
     },
     "execution_count": 517,
     "metadata": {},
     "output_type": "execute_result"
    },
    {
     "data": {
      "image/png": "[encoded data removed]",
      "text/plain": [
       "<Figure size 432x288 with 1 Axes>"
      ]
     },
     "metadata": {},
     "output_type": "display_data"
    }
   ],
   "source": [
    "plt.loglog(T,B2(T,k2,k1,kap,v))\n",
    "plt.loglog(T,2*B2approx(T,k2,k1,kap,v))"
   ]
  },
  {
   "cell_type": "code",
   "execution_count": 518,
   "metadata": {},
   "outputs": [
    {
     "data": {
      "text/plain": [
       "(1.9150831024777915, 1.9150831030653075)"
      ]
     },
     "execution_count": 518,
     "metadata": {},
     "output_type": "execute_result"
    }
   ],
   "source": [
    "C2(T,k2,k1,kap,v), C2approx(T,k2,k1,kap,v)"
   ]
  },
  {
   "cell_type": "code",
   "execution_count": 484,
   "metadata": {},
   "outputs": [
    {
     "data": {
      "text/plain": [
       "<matplotlib.lines.Line2D at 0x7f76e80539e8>"
      ]
     },
     "execution_count": 484,
     "metadata": {},
     "output_type": "execute_result"
    },
    {
     "data": {
      "image/png": "[encoded data removed]",
      "text/plain": [
       "<Figure size 432x288 with 1 Axes>"
      ]
     },
     "metadata": {},
     "output_type": "display_data"
    }
   ],
   "source": [
    "plt.loglog(T,lislevar(T,k1,k2,v))\n",
    "plt.axvline(1/(k1+k2))\n",
    "plt.axvline(1/k1+1/k2)"
   ]
  },
  {
   "cell_type": "code",
   "execution_count": 128,
   "metadata": {},
   "outputs": [
    {
     "data": {
      "text/plain": [
       "<matplotlib.lines.Line2D at 0x7f76f1c61b38>"
      ]
     },
     "execution_count": 128,
     "metadata": {},
     "output_type": "execute_result"
    },
    {
     "data": {
      "image/png": "[encoded data removed]",
      "text/plain": [
       "<Figure size 432x288 with 1 Axes>"
      ]
     },
     "metadata": {},
     "output_type": "display_data"
    }
   ],
   "source": [
    "plt.loglog(T,wuvar(T,k1,k2,kap,v))\n",
    "plt.axvline(1/kap)\n",
    "plt.axvline()"
   ]
  },
  {
   "cell_type": "code",
   "execution_count": 67,
   "metadata": {
    "scrolled": true
   },
   "outputs": [],
   "source": [
    "\n",
    "#T,X = ens(100,dt=1e-3,tmax=1e6,k1=k1,k2=k2,kap=kap,theta1=theta1,theta2=theta2,v=v)"
   ]
  },
  {
   "cell_type": "code",
   "execution_count": null,
   "metadata": {
    "collapsed": true
   },
   "outputs": [],
   "source": [
    "def limvar(t,k1,k2,kap,v,theta2):\n",
    "    exp = np.exp\n",
    "    k = k1+k2\n",
    "    ka = kap\n",
    "    a = k2/2\n",
    "    b = k2/2+ka\n",
    "    the2 = theta2\n",
    "    the1 = 1-the2\n",
    "    A1 = v/2/b*(the1+(k1+the2*kap)/(b-a))\n",
    "    B1 = -v/2/b*(the2-(k1+the2*kap)/(a+b))\n",
    "    C1 = -v/2/b*((k1+the2*kap)/(b-a)+(k1+the2*kap)/(a+b))\n",
    "    def A2(t):\n",
    "        o = (b*t-1)*(k1+the2*(2*kap+k1+b-a)+the2*b)\n",
    "        o+= (kap+k1)*(the2*kap+k1)/(a+b)**2*((b*t+1)*(a+b)+b)\n",
    "        return o*v**2/2/b**3\n",
    "    def B2(t):\n",
    "        o =(b*t+1)*(k1+the2*(2*kap+k1-a-b)+the2*b)"
   ]
  },
  {
   "cell_type": "code",
   "execution_count": 96,
   "metadata": {
    "scrolled": false
   },
   "outputs": [
    {
     "data": {
      "text/plain": [
       "(1e-07, 10000000.0)"
      ]
     },
     "execution_count": 96,
     "metadata": {},
     "output_type": "execute_result"
    },
    {
     "data": {
      "image/png": "[encoded data removed]",
      "text/plain": [
       "<Figure size 720x450 with 1 Axes>"
      ]
     },
     "metadata": {},
     "output_type": "display_data"
    }
   ],
   "source": [
    "T = np.geomspace(1e-9,1e9,1000)\n",
    "k2 = 1/1.5# this value comes from Martin 2012 experiment M1\n",
    "k1 = 1.0/30.0 # this is crudely estimated from Martin 2012 expt M1 figure 8 as a 50s mean resting time\n",
    "kap = 1/10000.0 # this is conjecture. 10hrs to trap \n",
    "v =  0.148/1.52 # this comes from Martin 2012 experiment M1\n",
    "theta1 = 1.0 # starts from rest \n",
    "theta2 = 0.0\n",
    "\n",
    "#plt.loglog(T,X.var(0),'x',color='black',label='simul')\n",
    "#plt.loglog(T,1/5*lislevar(T,k1,k2,v),label='lisle',color='black')\n",
    "plt.loglog(T,cumulants(T,2,k1,k2,kap,v,theta2),label='you',color='red',lw=4,zorder=-1)\n",
    "#plt.loglog(T,5*wuvar(T,k1,k2,kap,v),label='wu',color='green',lw=1,zorder=-1)\n",
    "\n",
    "\n",
    "plt.xlabel(r'$t$',fontsize=12)\n",
    "#plt.legend()\n",
    "plt.ylabel(r'$\\sigma_x^2(t)$',rotation=0,fontsize=12)\n",
    "fig = plt.gcf()\n",
    "fig.set_figheight(10/1.6)\n",
    "fig.set_figwidth(10)\n",
    "plt.xlim(1e-4,1e6)\n",
    "plt.ylim(1e-7,1e7)"
   ]
  },
  {
   "cell_type": "code",
   "execution_count": 63,
   "metadata": {
    "scrolled": true
   },
   "outputs": [
    {
     "data": {
      "image/png": "[encoded data removed]",
      "text/plain": [
       "<Figure size 504x315 with 1 Axes>"
      ]
     },
     "metadata": {},
     "output_type": "display_data"
    }
   ],
   "source": [
    "tm = 1\n",
    "tr = 10\n",
    "tt = 100000\n",
    "k1 = 1/tr\n",
    "k2 = 1/tm\n",
    "kap = 1/tt\n",
    "v=0.1\n",
    "\n",
    "\n",
    "# k1/(k1+k2) is fraction of time spent in motion\n",
    "# k2/(k1+k2) is fraction of time spent at rest\n",
    "\n",
    "# crossover from 1st ballistic regime\n",
    "time1 = 1/np.sqrt(k1*k2)\n",
    "plt.axvline(time1,color='black')\n",
    "\n",
    "# crossover zone from 2nd ballistic regime\n",
    "tau1 = 1/kap\n",
    "tau2 = 1/(k1*kap/(k1+k2))\n",
    "time3 = np.sqrt(tau1*tau2)\n",
    "plt.axvline(time3,color='black')\n",
    "plt.xlabel(r'$t$',fontsize=12)\n",
    "plt.ylabel(r'$\\sigma_x^2(t)$',rotation=0,fontsize=12)\n",
    "\n",
    "# crossover zone into 2nd ballistic regime\n",
    "#plt.axvline(np.sqrt(1/kap/k2))\n",
    "#plt.axvline(np.sqrt(1/kap*1/(k1*kap/(k1+k2))))\n",
    "\n",
    "# mix the lower two times... \n",
    "time2 = (1/k1*tau2)**(1/2)\n",
    "plt.axvline(time2,color='black')\n",
    "\n",
    "fig = plt.gcf()\n",
    "fig.set_figheight(7/1.6)\n",
    "fig.set_figwidth(7)\n",
    "fig.savefig('../grl/figures/diffusion.png', bbox_inches='tight',dpi=600)"
   ]
  },
  {
   "cell_type": "code",
   "execution_count": null,
   "metadata": {
    "collapsed": true,
    "scrolled": true
   },
   "outputs": [],
   "source": [
    "# code scrap to draw the three ranges onto a plot \n",
    "val = 1e-2\n",
    "# local range\n",
    "t0 = np.geomspace(1e-2,time1,100)\n",
    "plt.loglog(t0,t0**3*val,linestyle='-.',color='black')\n",
    "val = (t0**3*val).max()\n",
    "# intermediate range\n",
    "t1 = np.geomspace(time1,time2,100)\n",
    "plt.loglog(t1,t1/t1.min()*val,linestyle='-.',color='black')\n",
    "val = (t1/t1.min()*val).max()\n",
    "# global range\n",
    "t2 = np.geomspace(time2,time3,100)\n",
    "plt.loglog(t2,t2**3/(t2**3).min()*val,linestyle='-.',color='black')\n",
    "# geomorphic range\n",
    "\n",
    "# scraps \n",
    "plt.loglog(T,X.var(0),'o',color='red',markersize=10,mfc='none')\n",
    "plt.loglog(T,cumulants(T,2,k1,k2,kap,v,theta2=0.7),color='black',lw=3)\n",
    "plt.ylim(1e-4,1e4)\n",
    "plt.xlim(1e-2,1e7)"
   ]
  },
  {
   "cell_type": "markdown",
   "metadata": {},
   "source": [
    "# simulate the joint pdf of x and t "
   ]
  },
  {
   "cell_type": "markdown",
   "metadata": {},
   "source": [
    "## simulate the pdfs for the paper \n"
   ]
  },
  {
   "cell_type": "code",
   "execution_count": null,
   "metadata": {},
   "outputs": [],
   "source": [
    "\n",
    "# First simulate starting from rest with kappa nonzero\n",
    "k2 = 1.0\n",
    "k1 = 0.1\n",
    "kap = 0.01\n",
    "v = 2.0\n",
    "theta1 =1.0 # start at rest \n",
    "theta2 = 0.0\n",
    "T,X = ens(15000,dt=1e-2,tmax=200,k1=k1,k2=k2,kap=kap,theta1=theta1,theta2=theta2,v=v,T='dt') # do the ensemble simulation\n",
    "\n",
    "### GENERATE THE HISTOGRAM \n",
    "# define bins over x axis\n",
    "dl = 1.0\n",
    "xbins = np.arange(0,np.nanmax(X)+dl,dl)\n",
    "# define bins over t axis\n",
    "dtau = 1.0\n",
    "tbins = np.arange(0,T.max()+dtau,dtau)\n",
    "Xs = X.flatten()\n",
    "Ts = np.hstack((T,)*X.shape[0])\n",
    "hist,_,_ = np.histogram2d(Xs,Ts,bins=[xbins,tbins])\n",
    "hist = hist/hist.sum(0)/dl # this seems to normalize \n",
    "hist_t = hist\n",
    "np.save('../simul/trap-pdf',{'tbins':tbins,'xbins':xbins,'pdf':hist_t})\n",
    "\n",
    "# then simulate starting from rest with kappa zero\n",
    "T,X = ens(15000,dt=1e-2,tmax=200,k1=k1,k2=k2,kap=0,theta1=theta1,theta2=theta2,v=v,T='dt') # do the ensemble simulation\n",
    "\n",
    "### GENERATE THE HISTOGRAM \n",
    "# define bins over x axis\n",
    "dl = 1.0\n",
    "xbins = np.arange(0,np.nanmax(X)+dl,dl)\n",
    "# define bins over t axis\n",
    "dtau = 1.0\n",
    "tbins = np.arange(0,T.max()+dtau,dtau)\n",
    "Xs = X.flatten()\n",
    "Ts = np.hstack((T,)*X.shape[0])\n",
    "hist,_,_ = np.histogram2d(Xs,Ts,bins=[xbins,tbins])\n",
    "hist = hist/hist.sum(0)/dl # this seems to normalize \n",
    "hist_nt = hist\n",
    "del hist \n",
    "np.save('../simul/notrap-pdf',{'tbins':tbins,'xbins':xbins,'pdf':hist_nt})"
   ]
  },
  {
   "cell_type": "markdown",
   "metadata": {
    "collapsed": true
   },
   "source": [
    "## make the two panel plot of the pdf with and without trapping"
   ]
  },
  {
   "cell_type": "code",
   "execution_count": null,
   "metadata": {},
   "outputs": [],
   "source": [
    "# now make the two panel plot without and with trapping\n",
    "import matplotlib.pyplot as plt\n",
    "# set the fonts \n",
    "smallsize = 8\n",
    "medsize = 12\n",
    "plt.rc('font', size=medsize)          # controls default text sizes\n",
    "plt.rc('axes', titlesize=medsize)     # fontsize of the axes title\n",
    "plt.rc('axes', labelsize=medsize)    # fontsize of the x and y labels\n",
    "plt.rc('xtick', labelsize=smallsize)    # fontsize of the tick labels\n",
    "plt.rc('ytick', labelsize=smallsize)    # fontsize of the tick labels\n",
    "plt.rc('legend', fontsize=medsize)    # legend fontsize\n",
    "plt.rc('figure', titlesize=medsize)  # fontsize of the figure title\n",
    "\n",
    "# useful function to find the histograms you want to plot\n",
    "def find_nearest(array, value):\n",
    "    array = np.asarray(array)\n",
    "    idx = (np.abs(array - value)).argmin()\n",
    "    return idx\n",
    "x = xbins[:-1]\n",
    "t1 = 25.0\n",
    "i1 = find_nearest(tbins,t1)\n",
    "t2 = 75.0\n",
    "i2 = find_nearest(tbins,t2)\n",
    "t3 = 125.0\n",
    "i3 = find_nearest(tbins,t3)\n",
    "\n",
    "# make the plot\n",
    "w = 5.50107 # width of figure in inches \n",
    "fig, (ax1, ax2) = plt.subplots(nrows=1,ncols=2, sharey=True, figsize=(w,3.9/1.6), dpi=600) # trial and error height\n",
    "\n",
    "# first subplot\n",
    "# simulation data\n",
    "ax1.scatter(x, hist_nt[:,i1],color='red',marker='s',s=8)\n",
    "ax1.scatter(x, hist_nt[:,i2],color='green',marker='o',s=8)\n",
    "ax1.scatter(x, hist_nt[:,i3],color='blue',marker='^',s=8)\n",
    "# set the ranges for the plot\n",
    "ax1.set_xlim(0,40)\n",
    "ax1.set_ylim(-0.005,0.15)\n",
    "# titles and labels first subplot\n",
    "ax1.set_xlabel(r'$x$',fontsize=12)\n",
    "ax1.set_ylabel(r'$p(x,t)$',fontsize=12)\n",
    "ax1.set_title(r'Without burial ($\\kappa=0$)',fontsize=12)\n",
    "ax1.text(0.83, 0.91, '(a)', transform=ax1.transAxes,fontsize=12, va='top')\n",
    "# plot the analytical solutions\n",
    "xp = np.linspace(1e-6,x.max(),1000)\n",
    "colors = ['red','green','blue']\n",
    "for ti,c in zip([t1,t2,t3],colors):\n",
    "    ax1.plot(xp,p(xp,ti,0,k1,k2,v,theta2),color=c,lw=1,zorder=1)\n",
    "\n",
    "# second subplot\n",
    "# simulation data\n",
    "ax2.scatter(x, hist_t[:,i1],color='red',marker='s',s=8)\n",
    "ax2.scatter(x[1:], hist_t[1:,i2],color='green',marker='o',s=8)\n",
    "ax2.scatter(x[1:], hist_t[1:,i3],color='blue',marker='^',s=8)\n",
    "# set the ranges for the plot\n",
    "ax2.set_xlim(0,40)\n",
    "ax2.set_ylim(-0.005,0.15)\n",
    "# titles and labels second subplot\n",
    "ax2.set_xlabel(r'$x$',fontsize=12)\n",
    "ax2.set_title(r'With burial ($\\kappa>0$)',fontsize=12)\n",
    "ax2.text(0.83, 0.91, '(b)', transform=ax2.transAxes,fontsize=12, va='top')\n",
    "# plot the analytical solutions\n",
    "for ti,c in zip([t1,t2,t3],colors):\n",
    "    ax2.plot(xp,p(xp,ti,kap,k1,k2,v,theta2),color=c,lw=1,zorder=1)\n",
    "\n",
    "# make the cascading time labels\n",
    "lab1 = r'$t=25.0$'\n",
    "lab2 = r'$t=75.0$'\n",
    "lab3 = r'$t=125.0$'\n",
    "x1 = 6\n",
    "y1 = 0.135\n",
    "x3 = 22\n",
    "y3 = 0.08\n",
    "x2 = (x1+x3)/2.0\n",
    "y2 = (y1+y3)/2.0\n",
    "ax1.text(x1,y1, lab1,fontsize=10, va='top')\n",
    "ax2.text(x1,y1, lab1,fontsize=10, va='top')\n",
    "ax1.text(x2,y2, lab2,fontsize=10, va='top')\n",
    "ax2.text(x2,y2, lab2,fontsize=10, va='top') \n",
    "ax1.text(x3,y3, lab3,fontsize=10, va='top')\n",
    "ax2.text(x3,y3, lab3,fontsize=10, va='top') \n",
    "\n",
    "# make the line segments to connect labels to curves on first subplot\n",
    "def line(ax,x1,y1,x2,y2):\n",
    "    x = [x1,x2]\n",
    "    y = [y1,y2]\n",
    "    l = round(np.sqrt((x2-x1)**2+(y2-y1)**2),2)\n",
    "    ang = round(np.arctan((y2-y1)/(x2-x1))*180/np.pi,2)\n",
    "    print('length {}; angle = {}'.format(l,ang))\n",
    "    return ax.plot(x,y,color='black',linestyle='--',lw=1)\n",
    "line(ax1,5,0.1,8.35,0.123)\n",
    "line(ax1,14,0.062,16.45,0.095)\n",
    "line(ax1,23.6,0.048,24.45,0.068)\n",
    "\n",
    "line(ax2,4.7,0.095,8.35,0.123)\n",
    "line(ax2,13.0,0.046,16.45,0.095)\n",
    "line(ax2,23.35,0.026,24.45,0.068)\n",
    "\n",
    "# overall figure layout + save the plot\n",
    "fig.tight_layout()\n",
    "fig.savefig('../grl/figures/pdf-plot.png', bbox_inches='tight')"
   ]
  },
  {
   "cell_type": "code",
   "execution_count": null,
   "metadata": {
    "collapsed": true
   },
   "outputs": [],
   "source": []
  }
 ],
 "metadata": {
  "kernelspec": {
   "display_name": "Python [default]",
   "language": "python",
   "name": "python3"
  },
  "language_info": {
   "codemirror_mode": {
    "name": "ipython",
    "version": 3
   },
   "file_extension": ".py",
   "mimetype": "text/x-python",
   "name": "python",
   "nbconvert_exporter": "python",
   "pygments_lexer": "ipython3",
   "version": "3.6.7"
  }
 },
 "nbformat": 4,
 "nbformat_minor": 2
}
